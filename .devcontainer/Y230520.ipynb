{
 "cells": [
  {
   "cell_type": "code",
   "execution_count": 1,
   "metadata": {},
   "outputs": [
    {
     "data": {
      "text/plain": [
       "(29, 62, 6)"
      ]
     },
     "execution_count": 1,
     "metadata": {},
     "output_type": "execute_result"
    }
   ],
   "source": [
    "import random\n",
    "random.randrange(50),random.randrange(50,102),random.randrange(0,103,3)\n",
    "\n"
   ]
  },
  {
   "cell_type": "code",
   "execution_count": 11,
   "metadata": {},
   "outputs": [
    {
     "data": {
      "text/plain": [
       "['星期一', '星期二', '星期三', '星期四', '星期五', '星期六', '星期日']"
      ]
     },
     "execution_count": 11,
     "metadata": {},
     "output_type": "execute_result"
    }
   ],
   "source": [
    "weeks = ['星期一', '星期二', '星期三', '星期四', '星期五', '星期六', '星期日']\n",
    "weeks"
   ]
  },
  {
   "cell_type": "code",
   "execution_count": 13,
   "metadata": {},
   "outputs": [],
   "source": [
    "numbers ={'one':1,'two':2,'three':3}\n",
    "numbers['one']"
   ]
  },
  {
   "cell_type": "code",
   "execution_count": 15,
   "metadata": {},
   "outputs": [
    {
     "data": {
      "text/plain": [
       "(1, 2, 3)"
      ]
     },
     "execution_count": 15,
     "metadata": {},
     "output_type": "execute_result"
    }
   ],
   "source": [
    "numbers ={'one':1,'two':2,'three':3}\n",
    "numbers['one'],numbers['two'],numbers['three']"
   ]
  },
  {
   "cell_type": "code",
   "execution_count": 20,
   "metadata": {},
   "outputs": [
    {
     "ename": "SyntaxError",
     "evalue": "Missing parentheses in call to 'print'. Did you mean print(...)? (3490151800.py, line 2)",
     "output_type": "error",
     "traceback": [
      "\u001b[0;36m  Cell \u001b[0;32mIn[20], line 2\u001b[0;36m\u001b[0m\n\u001b[0;31m    print f('key:key{})')\u001b[0m\n\u001b[0m    ^\u001b[0m\n\u001b[0;31mSyntaxError\u001b[0m\u001b[0;31m:\u001b[0m Missing parentheses in call to 'print'. Did you mean print(...)?\n"
     ]
    }
   ],
   "source": [
    "for key in numbers:\n",
    "    print f('key:key{})')"
   ]
  },
  {
   "cell_type": "code",
   "execution_count": 18,
   "metadata": {},
   "outputs": [
    {
     "name": "stdout",
     "output_type": "stream",
     "text": [
      "one\n",
      "two\n",
      "three\n"
     ]
    }
   ],
   "source": [
    "for key in numbers.keys():\n",
    "    print(key)"
   ]
  },
  {
   "cell_type": "code",
   "execution_count": 2,
   "metadata": {},
   "outputs": [],
   "source": [
    "import requests"
   ]
  },
  {
   "cell_type": "code",
   "execution_count": 1,
   "metadata": {},
   "outputs": [
    {
     "ename": "NameError",
     "evalue": "name 'requests' is not defined",
     "output_type": "error",
     "traceback": [
      "\u001b[0;31m---------------------------------------------------------------------------\u001b[0m",
      "\u001b[0;31mNameError\u001b[0m                                 Traceback (most recent call last)",
      "Cell \u001b[0;32mIn[1], line 2\u001b[0m\n\u001b[1;32m      1\u001b[0m url \u001b[39m=\u001b[39m \u001b[39m\"\u001b[39m\u001b[39mhttps://raw.githubusercontent.com/roberthsu2003/PythonForDataAnalysis/master/\u001b[39m\u001b[39m%E\u001b[39;00m\u001b[39m6\u001b[39m\u001b[39m%\u001b[39m\u001b[39mAA\u001b[39m\u001b[39m%94%\u001b[39;00m\u001b[39mE6\u001b[39m\u001b[39m%\u001b[39m\u001b[39mA1\u001b[39m\u001b[39m%88%\u001b[39;00m\u001b[39mE5\u001b[39m\u001b[39m%\u001b[39m\u001b[39mAD\u001b[39m\u001b[39m%98%\u001b[39;00m\u001b[39mE5\u001b[39m\u001b[39m%8F\u001b[39;00m\u001b[39m%\u001b[39m\u001b[39m96/\u001b[39m\u001b[39m%E\u001b[39;00m\u001b[39m5\u001b[39m\u001b[39m%80%\u001b[39;00m\u001b[39m8B\u001b[39m\u001b[39m%E\u001b[39;00m\u001b[39m8\u001b[39m\u001b[39m%82%\u001b[39;00m\u001b[39mA1\u001b[39m\u001b[39m%E\u001b[39;00m\u001b[39m6\u001b[39m\u001b[39m%97%\u001b[39;00m\u001b[39mA5\u001b[39m\u001b[39m%E\u001b[39;00m\u001b[39m6\u001b[39m\u001b[39m%88%\u001b[39;00m\u001b[39m90\u001b[39m\u001b[39m%E\u001b[39;00m\u001b[39m4\u001b[39m\u001b[39m%\u001b[39m\u001b[39mBA\u001b[39m\u001b[39m%\u001b[39m\u001b[39mA4\u001b[39m\u001b[39m%E\u001b[39;00m\u001b[39m8\u001b[39m\u001b[39m%\u001b[39m\u001b[39mB3\u001b[39m\u001b[39m%87%\u001b[39;00m\u001b[39mE8\u001b[39m\u001b[39m%\u001b[39m\u001b[39mA8\u001b[39m\u001b[39m%\u001b[39m\u001b[39m8A.csv\u001b[39m\u001b[39m\"\u001b[39m\n\u001b[0;32m----> 2\u001b[0m response \u001b[39m=\u001b[39m requests\u001b[39m.\u001b[39mget(url)\n\u001b[1;32m      4\u001b[0m \u001b[39mif\u001b[39;00m response\u001b[39m.\u001b[39mok:\n\u001b[1;32m      5\u001b[0m     \u001b[39mprint\u001b[39m(\u001b[39m\"\u001b[39m\u001b[39m下載成功\u001b[39m\u001b[39m\"\u001b[39m)\n",
      "\u001b[0;31mNameError\u001b[0m: name 'requests' is not defined"
     ]
    }
   ],
   "source": [
    "url = \"https://raw.githubusercontent.com/roberthsu2003/PythonForDataAnalysis/master/%E6%AA%94%E6%A1%88%E5%AD%98%E5%8F%96/%E5%80%8B%E8%82%A1%E6%97%A5%E6%88%90%E4%BA%A4%E8%B3%87%E8%A8%8A.csv\"\n",
    "response = requests.get(url)\n",
    "\n",
    "if response.ok:\n",
    "    print(\"下載成功\")\n",
    "    print(\"下載內容如下:\")\n",
    "    print(response.text)\n",
    "else:\n",
    "    print(\"下載失敗\")"
   ]
  },
  {
   "cell_type": "code",
   "execution_count": null,
   "metadata": {},
   "outputs": [],
   "source": []
  }
 ],
 "metadata": {
  "kernelspec": {
   "display_name": "Python 3",
   "language": "python",
   "name": "python3"
  },
  "language_info": {
   "codemirror_mode": {
    "name": "ipython",
    "version": 3
   },
   "file_extension": ".py",
   "mimetype": "text/x-python",
   "name": "python",
   "nbconvert_exporter": "python",
   "pygments_lexer": "ipython3",
   "version": "3.10.11"
  },
  "orig_nbformat": 4
 },
 "nbformat": 4,
 "nbformat_minor": 2
}
