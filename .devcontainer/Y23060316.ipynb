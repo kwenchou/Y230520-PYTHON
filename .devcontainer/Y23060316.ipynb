{
 "cells": [
  {
   "cell_type": "code",
   "execution_count": 1,
   "metadata": {},
   "outputs": [
    {
     "name": "stdout",
     "output_type": "stream",
     "text": [
      "連線成功\n",
      "<class 'list'>\n",
      "370\n",
      "                        車數  可借   行政區                   時間               地址   \n",
      "站點名稱                                                                         \n",
      "YouBike2.0_新生南路三段82號前   20   7   大安區  2023-06-03 16:09:14        新生南路三段82號  \\\n",
      "YouBike2.0_羅斯福路三段311號前  11   6   大安區  2023-06-03 16:10:20       羅斯福路三段311號   \n",
      "YouBike2.0_大安運動中心停車場    14   5   大安區  2023-06-03 16:00:51        敦南街76巷28號   \n",
      "YouBike2.0_和平臥龍街口       15   7   大安區  2023-06-03 16:12:15            臥龍街1號   \n",
      "YouBike2.0_第二學生活動中心     27   9   大安區  2023-06-03 16:05:15  羅斯福路四段107號(西南側)   \n",
      "...                     ..  ..   ...                  ...              ...   \n",
      "YouBike2.0_臺大凝態館南側      20   7  臺大專區  2023-06-03 16:06:15         臺大物理系館南側   \n",
      "YouBike2.0_臺大森林館北側      10   6  臺大專區  2023-06-03 16:13:16        臺大森林系學系北側   \n",
      "YouBike2.0_臺大新生教室南側     18   8  臺大專區  2023-06-03 16:07:15        臺大新生教學館南側   \n",
      "YouBike2.0_臺大鄭江樓北側      10   8  臺大專區  2023-06-03 16:11:16        臺大新聞研究所南側   \n",
      "YouBike2.0_臺大新體育館東南側    40   6  臺大專區  2023-06-03 16:09:14          臺大體育館東側   \n",
      "\n",
      "                        可還 狀態  \n",
      "站點名稱                           \n",
      "YouBike2.0_新生南路三段82號前   13  1  \n",
      "YouBike2.0_羅斯福路三段311號前   4  1  \n",
      "YouBike2.0_大安運動中心停車場     8  1  \n",
      "YouBike2.0_和平臥龍街口        8  1  \n",
      "YouBike2.0_第二學生活動中心     18  1  \n",
      "...                     .. ..  \n",
      "YouBike2.0_臺大凝態館南側      12  1  \n",
      "YouBike2.0_臺大森林館北側       4  1  \n",
      "YouBike2.0_臺大新生教室南側     10  1  \n",
      "YouBike2.0_臺大鄭江樓北側       2  1  \n",
      "YouBike2.0_臺大新體育館東南側    34  1  \n",
      "\n",
      "[370 rows x 7 columns]\n"
     ]
    }
   ],
   "source": [
    "import requests\n",
    "import pandas as pd\n",
    "\n",
    "\n",
    "url = 'https://tcgbusfs.blob.core.windows.net/dotapp/youbike/v2/youbike_immediate.json'\n",
    "response = requests.request('GET',url)\n",
    "if response.status_code == 200:\n",
    "    print(\"連線成功\")\n",
    "    all_data = response.json()\n",
    "    print(type(all_data))\n",
    "else:\n",
    "    print(f\"連線失敗:{response.status_code}\")\n",
    "\n",
    "\n",
    "\n",
    "dataFrame = pd.DataFrame(data=all_data,columns=['sna','tot','sbi','sarea','mday','ar','bemp','act'])\n",
    "\n",
    "dataFrame.columns = [\"站點名稱\",\"車數\",\"可借\",\"行政區\",\"時間\",\"地址\",\"可還\",\"狀態\"]\n",
    "dataFrame1 = dataFrame.set_index(\"站點名稱\")\n",
    "\n",
    "mask = (dataFrame1['可借'] <= 10) & (dataFrame1['可借'] >= 5)\n",
    "mask_dataFrame = dataFrame1[mask]\n",
    "count = mask_dataFrame[\"車數\"].count()\n",
    "print(count)\n",
    "print(mask_dataFrame)\n",
    "\n",
    "\n"
   ]
  }
 ],
 "metadata": {
  "kernelspec": {
   "display_name": "Python 3",
   "language": "python",
   "name": "python3"
  },
  "language_info": {
   "codemirror_mode": {
    "name": "ipython",
    "version": 3
   },
   "file_extension": ".py",
   "mimetype": "text/x-python",
   "name": "python",
   "nbconvert_exporter": "python",
   "pygments_lexer": "ipython3",
   "version": "3.10.11"
  },
  "orig_nbformat": 4
 },
 "nbformat": 4,
 "nbformat_minor": 2
}
